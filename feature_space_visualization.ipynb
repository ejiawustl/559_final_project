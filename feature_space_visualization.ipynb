{
 "cells": [
  {
   "cell_type": "code",
   "execution_count": 90,
   "id": "60e9462e-8dce-48d7-af20-33a49bd3b68f",
   "metadata": {},
   "outputs": [],
   "source": [
    "import requests\n",
    "import os\n",
    "import numpy as np\n",
    "import torch\n",
    "import torchvision.models as models\n",
    "from torchvision import transforms\n",
    "import clip\n",
    "import re\n",
    "from PIL import Image\n",
    "import matplotlib.pyplot as plt\n",
    "from sklearn.decomposition import TruncatedSVD\n",
    "from sklearn.manifold import TSNE\n",
    "\n",
    "device = \"cuda\" if torch.cuda.is_available() else \"cpu\""
   ]
  },
  {
   "cell_type": "code",
   "execution_count": 2,
   "id": "531b20ae-28f4-42f7-8b07-13d3343e516e",
   "metadata": {},
   "outputs": [],
   "source": [
    "#these cells were for gathering the data, so they will be commented out\n",
    "'''\n",
    "search_url = \"https://collectionapi.metmuseum.org/public/collection/v1/search\"\n",
    "params = {\n",
    "    \"q\": \"Vincent van Gogh\",\n",
    "    \"artistOrCulture\": True,\n",
    "}\n",
    "response = requests.get(search_url, params=params)\n",
    "data = response.json()\n",
    "'''"
   ]
  },
  {
   "cell_type": "code",
   "execution_count": 56,
   "id": "c59348c7-2464-4cda-adfc-75de69458bb5",
   "metadata": {},
   "outputs": [
    {
     "name": "stdout",
     "output_type": "stream",
     "text": [
      "Found 302 artworks by Van Gogh.\n"
     ]
    }
   ],
   "source": [
    "'''\n",
    "object_ids = data.get(\"objectIDs\", [])\n",
    "print(f\"Found {len(object_ids)} artworks by Van Gogh.\")\n",
    "\n",
    "save_dir = \"van_gogh_images\"\n",
    "os.makedirs(save_dir, exist_ok=True)\n",
    "'''"
   ]
  },
  {
   "cell_type": "code",
   "execution_count": 59,
   "id": "4b3b5c5d-6999-483d-813a-3c0af43f0c22",
   "metadata": {},
   "outputs": [
    {
     "name": "stdout",
     "output_type": "stream",
     "text": [
      "Downloading Landscape with a Rainbow over a Farmhouse and Distant Village\n",
      "Downloading A Spider\n",
      "Downloading A Caterpillar\n",
      "Downloading A Slug\n",
      "Downloading A Black Beetle\n",
      "Downloading Green Beetle with Brown Legs\n",
      "Downloading Portrait of Doctor Gachet or Man with a Pipe\n",
      "Downloading The \"Kearsarge\" at Boulogne\n",
      "Downloading Tilla Durieux (Ottilie Godeffroy, 1880–1971)\n",
      "Downloading Saint John on Patmos\n",
      "Downloading The Triumph of Fame; (reverse) Impresa of the Medici Family and Arms of the Medici and Tornabuoni Families\n",
      "Downloading Self-Portrait with Two Pupils, Marie Gabrielle Capet (1761–1818) and Marie Marguerite Carraux de Rosemond (1765–1788)\n",
      "Downloading Standing Man with His Right Hand on His Chest\n",
      "Downloading The Smokers\n",
      "Downloading Wondertooneel der Nature\n",
      "Downloading The Belles Heures of Jean de France, duc de Berry\n",
      "Downloading The Funeral\n",
      "Downloading Clock-watch with sundial\n",
      "Downloading Portrait of a Woman as Diana\n",
      "Downloading Landscape with Moses and the Burning Bush\n",
      "Downloading A Woman Seated beside a Vase of Flowers (Madame Paul Valpinçon?)\n",
      "Downloading The Garden of the Tuileries on a Winter Afternoon\n",
      "Downloading The Calmady Children (Emily, 1818–?1906, and Laura Anne, 1820–1894)\n",
      "Downloading The Crucifixion\n",
      "Downloading The Little Fourteen-Year-Old Dancer\n",
      "Downloading The Nativity with Donors and Saints Jerome and Leonard\n",
      "Downloading A Maid Asleep\n",
      "Downloading Perennial Pea\n",
      "Downloading The Expulsion and Adam and Eve after the Fall (one of a set of three)\n",
      "Downloading Ia Orana Maria (Hail Mary)\n",
      "Downloading Saint Peter Martyr Healing the Leg of a Young Man\n",
      "Downloading The Crucifixion\n",
      "Downloading A Bashi-Bazouk\n",
      "Downloading Haystacks: Autumn\n",
      "Downloading Moses Striking the Rock\n",
      "Downloading Still Life with a Vase of Flowers, Melon, Peaches, and Grapes\n",
      "Downloading Apple Blossoms\n",
      "Downloading Allegory of America\n",
      "Downloading A Cowherd at Valhermeil, Auvers-sur-Oise\n",
      "Downloading The Englishman (William Tom Warrener, 1861–1934) at the Moulin Rouge\n",
      "Downloading Venus and the Sphinx\n",
      "Downloading Jupiter and the Sphinx\n",
      "Downloading Circus Sideshow (Parade de cirque)\n",
      "Downloading Antoine Dominique Sauveur Aubert (born 1817), the Artist's Uncle\n",
      "Downloading A Man Reading in a Garden (recto); Preliminary sketch for a Man Reading in a Garden (verso)\n",
      "Downloading The Third-Class Carriage\n",
      "Downloading The Crucifixion with Donors and Saints Peter and Margaret of Antioch\n",
      "Downloading The Horse Fair\n",
      "Downloading The Baker's Cart\n",
      "Downloading Portrait of a Woman with a Man at a Casement\n",
      "Downloading Vase of Flowers (Pink Background)\n",
      "Downloading Woman with a Rake\n",
      "Downloading Jo, La Belle Irlandaise\n",
      "Downloading The Birth of the Virgin\n",
      "Downloading Head of a ruler\n",
      "Downloading The Banks of the Seine at Conflans\n",
      "Downloading The Forest in Winter at Sunset\n",
      "Downloading Study for the \"Attack on Copenhagen\"\n",
      "Downloading Girl in the Dunes\n",
      "Downloading A Road in Louveciennes\n",
      "Downloading The Return to the Fold\n",
      "Downloading Le Vin (Wine)\n",
      "Downloading Le Café (Coffee)\n",
      "Downloading Madame Cézanne (Hortense Fiquet, 1850–1922) in the Conservatory\n",
      "Downloading The Good Samaritan\n",
      "Downloading Jalais Hill, Pontoise\n",
      "Downloading The Birth of Venus\n",
      "Downloading Don Andrés de Andrade y la Cal\n",
      "Downloading Young Man in the Costume of a Majo\n",
      "Downloading The Natchez\n",
      "Downloading The Baptism of Christ\n",
      "Downloading Young Lady in 1866\n",
      "Downloading The Hamlet of Optevoz\n",
      "Downloading The House with the Cracked Walls\n",
      "Downloading The Weeders\n",
      "Downloading Relief fragment: cavalryman leading his horse beside a stream\n",
      "Downloading A Woman Reading\n",
      "Downloading The Card Players\n",
      "Downloading A Farm in Brittany\n",
      "Downloading Joan of Arc\n",
      "Downloading The Singer in Green\n",
      "Downloading Old Women of Arles, from the \"Volpini Suite: Dessins lithographiques\"\n",
      "Downloading Madame Théodore Gobillard (Yves Morisot, 1838–1893)\n",
      "Downloading Dancers in the Rehearsal Room with a Double Bass\n",
      "Downloading The Collector of Prints\n",
      "Downloading The Death of Socrates\n",
      "Downloading Basket of Flowers\n",
      "Downloading Mirror\n",
      "Downloading Still Life with Apples and Pears\n",
      "Downloading Bretonnes à la Barrière, from the \"Volpini Suite: Dessins lithographiques\"\n",
      "Downloading The Grasshoppers and the Ants: A Souvenir of Martinique, from the \"Volpini Suite: Dessins lithographiques\"\n",
      "Downloading Honfleur: Calvary\n",
      "Downloading Holy Family with an Angel\n",
      "Downloading Still Life with Apples and a Pot of Primroses\n",
      "Downloading The Pool at Jas de Bouffan\n",
      "Downloading Young Woman (La Servante)\n",
      "Downloading The Boulevard Montmartre on a Winter Morning\n",
      "Downloading Pierced Bowl Signed by Hasan al-Qashani\n",
      "Downloading (\"Leda\") Design for a Plate: Shame on Those Who Evil Think (Honi Soit Qui Mal y Pense) ; cover illustration for the \"Volpini Suite\" entitled Lithographic Drawings (Dessins lithographiques)\n",
      "Downloading Gray Weather, Grande Jatte\n",
      "Done!\n"
     ]
    }
   ],
   "source": [
    "'''\n",
    "downloaded = 0\n",
    "for object_id in object_ids:\n",
    "    if downloaded >= 100:\n",
    "        break\n",
    "    \n",
    "    object_url = f\"https://collectionapi.metmuseum.org/public/collection/v1/objects/{object_id}\"\n",
    "    object_response = requests.get(object_url)\n",
    "    object_data = object_response.json()\n",
    "\n",
    "    image_url = object_data.get(\"primaryImage\")\n",
    "    title = object_data.get(\"title\", f\"van_gogh_{object_id}\")\n",
    "\n",
    "    if image_url:\n",
    "        print(f\"Downloading {title}\")\n",
    "        img_response = requests.get(image_url)\n",
    "        safe_title = title.replace(\" \", \"_\").replace(\":\", \"\").replace('\"', \"\")\n",
    "        safe_title = re.sub(r'\\(.*?\\)', '', safe_title)\n",
    "        img_path = os.path.join(save_dir, f\"{safe_title}.jpg\")\n",
    "        \n",
    "        with open(img_path, \"wb\") as f:\n",
    "            f.write(img_response.content)\n",
    "\n",
    "        downloaded += 1\n",
    "\n",
    "print(\"Done!\")\n",
    "'''"
   ]
  },
  {
   "cell_type": "code",
   "execution_count": 95,
   "id": "519080d6-6175-44a9-9b2a-cab4c7097fff",
   "metadata": {
    "scrolled": true
   },
   "outputs": [
    {
     "name": "stderr",
     "output_type": "stream",
     "text": [
      "C:\\Users\\Kyle\\AppData\\Local\\Packages\\PythonSoftwareFoundation.Python.3.11_qbz5n2kfra8p0\\LocalCache\\local-packages\\Python311\\site-packages\\torchvision\\models\\_utils.py:208: UserWarning: The parameter 'pretrained' is deprecated since 0.13 and may be removed in the future, please use 'weights' instead.\n",
      "  warnings.warn(\n",
      "C:\\Users\\Kyle\\AppData\\Local\\Packages\\PythonSoftwareFoundation.Python.3.11_qbz5n2kfra8p0\\LocalCache\\local-packages\\Python311\\site-packages\\torchvision\\models\\_utils.py:223: UserWarning: Arguments other than a weight enum or `None` for 'weights' are deprecated since 0.13 and may be removed in the future. The current behavior is equivalent to passing `weights=ResNet50_Weights.IMAGENET1K_V1`. You can also use `weights=ResNet50_Weights.DEFAULT` to get the most up-to-date weights.\n",
      "  warnings.warn(msg)\n"
     ]
    }
   ],
   "source": [
    "#if you want to see how it performs in the resnet feature space\n",
    "resnet = models.resnet50(pretrained=True)\n",
    "resnet_model = resnet.eval()\n",
    "feature_extractor = torch.nn.Sequential(*list(resnet.children())[:-1])#.to(device)\n",
    "transform = transforms.Compose([\n",
    "    transforms.Resize((224, 224)),\n",
    "    transforms.ToTensor()])\n",
    "resnet_features = []\n",
    "all_files = os.listdir(\"van_gogh_images\")\n",
    "for path in all_files[1:]:\n",
    "    img = Image.open(f\"van_gogh_images/{path}\")\n",
    "    image = transform(img).unsqueeze(0)#.to(device)\n",
    "    if image.shape == torch.Size([1, 1, 224, 224]):\n",
    "        image = image.repeat(1, 3, 1, 1)\n",
    "    with torch.no_grad():\n",
    "        feature = feature_extractor(image)\n",
    "    resnet_features.append(feature.squeeze(0).flatten().cpu().detach().numpy())\n",
    "\n",
    "rose_cloaked = Image.open(\"perturbed_images/Roses-protected-intensity-DEFAULT-V2.jpg\")\n",
    "our_perturbed = Image.open(\"perturbed_images/Roses_eric.jpg\")\n",
    "ros_cloak = transform(rose_cloaked).unsqueeze(0)\n",
    "our_cloak = transform(our_perturbed).unsqueeze(0)\n",
    "with torch.no_grad():\n",
    "    resnet_roses_cloaked = feature_extractor(ros_cloak).squeeze(0).flatten().cpu().detach().numpy()\n",
    "    our_resnet_featurs = feature_extractor(our_cloak).squeeze(0).flatten().cpu().detach().numpy()\n"
   ]
  },
  {
   "cell_type": "code",
   "execution_count": 96,
   "id": "16662729-49ac-47a0-80bd-7cd70df66603",
   "metadata": {},
   "outputs": [],
   "source": [
    "#for the clip feature extractor, used in Stable Diffusion\n",
    "model, preprocess = clip.load(\"ViT-B/32\", device=device)\n",
    "clip_features = []\n",
    "for path in all_files[1:]:\n",
    "    img = Image.open(f\"van_gogh_images/{path}\")        \n",
    "    image = preprocess(img).unsqueeze(0).to(device)\n",
    "    with torch.no_grad():\n",
    "        image_features = model.encode_image(image)\n",
    "    clip_features.append(image_features.squeeze(0).cpu())"
   ]
  },
  {
   "cell_type": "code",
   "execution_count": 97,
   "id": "288e15f1-f5ff-4ede-9f52-f152eab9a280",
   "metadata": {},
   "outputs": [],
   "source": [
    "#cypresses and roses are the 2 that were perturbed with glaze (took 40+ minutes)\n",
    "cypress_idx = all_files.index(\"Cypresses.jpg\")\n",
    "rose_idx = all_files.index(\"Roses.jpg\")\n",
    "idx = rose_idx"
   ]
  },
  {
   "cell_type": "code",
   "execution_count": 98,
   "id": "ff352ca2-7bc3-4311-ba9c-b7936d844b65",
   "metadata": {},
   "outputs": [],
   "source": [
    "#calculate clip features for cloaked images (for plotting)\n",
    "roses = Image.open(\"van_gogh_images/Roses.jpg\")\n",
    "roses_cloak = Image.open(\"perturbed_images/Roses-protected-intensity-DEFAULT-V2.jpg\")\n",
    "our_perturbed = Image.open(\"perturbed_images/Roses_eric.jpg\")\n",
    "our_im = preprocess(our_perturbed).unsqueeze(0).to(device)\n",
    "roses_im = preprocess(roses).unsqueeze(0).to(device)\n",
    "roses_cloak_im = preprocess(roses_cloak).unsqueeze(0).to(device)\n",
    "with torch.no_grad():\n",
    "    roses_features = model.encode_image(roses_im).squeeze(0).cpu()\n",
    "    clip_roses_cloaked = model.encode_image(roses_cloak_im).squeeze(0).cpu()\n",
    "    our_clip_features = model.encode_image(our_im).squeeze(0).cpu()"
   ]
  },
  {
   "cell_type": "code",
   "execution_count": 113,
   "id": "e71e329f-2569-4e02-ace7-9abee0b8dda3",
   "metadata": {},
   "outputs": [
    {
     "data": {
      "image/png": "[encoded data removed]",
      "text/plain": [
       "<Figure size 640x480 with 1 Axes>"
      ]
     },
     "metadata": {},
     "output_type": "display_data"
    }
   ],
   "source": [
    "#can use either clip or resnet features, change this parameter for that\n",
    "use_resnet_features = False\n",
    "if use_resnet_features:\n",
    "    feature_vectors = resnet_features\n",
    "    cloaked = resnet_roses_cloaked\n",
    "    ours = our_resnet_features\n",
    "else:\n",
    "    feature_vectors = clip_features\n",
    "    cloaked = clip_roses_cloaked\n",
    "    ours = our_clip_features\n",
    "\n",
    "#use truncated SVD in place of PCA because we have fewer data points than dimensions in original feature vectors\n",
    "svd = TruncatedSVD(n_components=2)\n",
    "data_svd = svd.fit_transform(feature_vectors)\n",
    "plt.figure()\n",
    "plt.scatter(data_svd[:, 0], data_svd[:, 1], color = 'silver') #other pictures, here to provide context for moves in feature space\n",
    "plt.scatter(data_svd[idx,0], data_svd[idx, 1], color = \"red\", label = 'original') #original Roses image\n",
    "cloaked_pt = svd.transform([cloaked])\n",
    "plt.scatter(cloaked_pt[0, 0], cloaked_pt[0, 1], color = 'blue', label = 'glaze cloak') #Roses cloaked by GLAZE\n",
    "our_pt = svd.transform([ours])\n",
    "plt.scatter(our_pt[0, 0], our_pt[0, 1], color = \"green\", label = 'our cloak') #Roses cloaked by our implementation\n",
    "plt.legend(loc = 'upper left')\n",
    "plt.show()"
   ]
  },
  {
   "cell_type": "code",
   "execution_count": 106,
   "id": "3af3a7d1-ca3c-4e4e-85e2-4a1ea5181876",
   "metadata": {},
   "outputs": [],
   "source": [
    "#running t-sne next- for more stable results, can use intermediate SVD to hopefully filter out some noise before t-sne\n",
    "use_int_svd = False\n",
    "if use_int_svd:\n",
    "    int_svd = TruncatedSVD(n_components = 20)\n",
    "    int_svd_data = int_svd.fit_transform(feature_vectors)\n",
    "    new_features = int_svd_data\n",
    "    new_cloaked = int_svd.transform([cloaked])\n",
    "    new_ours = int_svd.transofrm([ours])\n",
    "else:\n",
    "    new_features = feature_vectors\n",
    "    new_cloaked = cloaked\n",
    "    new_ours = ours\n",
    "\n",
    "all_data = np.vstack([new_features, new_cloaked, new_ours])\n",
    "tsne = TSNE(n_components = 2, perplexity = 7)\n",
    "all_data_tsne = tsne.fit_transform(all_data)\n",
    "origs = all_data_tsne[:-2]\n",
    "cloaked_pt = all_data_tsne[-2]\n",
    "our_pt = all_data_tsne[-1]\n"
   ]
  },
  {
   "cell_type": "code",
   "execution_count": 112,
   "id": "689ada20-b8a7-4497-af4a-382595afde6b",
   "metadata": {},
   "outputs": [
    {
     "data": {
      "image/png": "[encoded data removed]",
      "text/plain": [
       "<Figure size 640x480 with 1 Axes>"
      ]
     },
     "metadata": {},
     "output_type": "display_data"
    }
   ],
   "source": [
    "plt.figure()\n",
    "plt.scatter(origs[:, 0], origs[:, 1], color = \"silver\")\n",
    "plt.scatter(origs[idx, 0], origs[idx, 1], color = \"red\", label = 'original')\n",
    "plt.scatter(cloaked_pt[0], cloaked_pt[1], color = \"blue\", label = 'glaze cloak')\n",
    "plt.scatter(our_pt[0], our_pt[1], color = \"green\", label = 'our cloak')\n",
    "plt.legend(loc = 'upper left')\n",
    "plt.title(\"Visualization of Feature Data T-SNE Embedding \"\n",
    "plt.show()\n"
   ]
  },
  {
   "cell_type": "code",
   "execution_count": null,
   "id": "d5407e63-6b39-4dd6-aae6-21c4019b2318",
   "metadata": {},
   "outputs": [],
   "source": []
  }
 ],
 "metadata": {
  "kernelspec": {
   "display_name": "Python 3 (ipykernel)",
   "language": "python",
   "name": "python3"
  },
  "language_info": {
   "codemirror_mode": {
    "name": "ipython",
    "version": 3
   },
   "file_extension": ".py",
   "mimetype": "text/x-python",
   "name": "python",
   "nbconvert_exporter": "python",
   "pygments_lexer": "ipython3",
   "version": "3.11.9"
  }
 },
 "nbformat": 4,
 "nbformat_minor": 5
}
