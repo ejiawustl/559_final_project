{
 "cells": [
  {
   "cell_type": "code",
   "execution_count": 34,
   "id": "60e9462e-8dce-48d7-af20-33a49bd3b68f",
   "metadata": {},
   "outputs": [],
   "source": [
    "import requests\n",
    "import os\n",
    "import torch\n",
    "import torchvision.models as models\n",
    "from torchvision import transforms\n",
    "import clip\n",
    "from PIL import Image\n",
    "import matplotlib.pyplot as plt\n",
    "from sklearn.decomposition import PCA\n",
    "\n",
    "device = \"cuda\" if torch.cuda.is_available() else \"cpu\""
   ]
  },
  {
   "cell_type": "code",
   "execution_count": 9,
   "id": "531b20ae-28f4-42f7-8b07-13d3343e516e",
   "metadata": {},
   "outputs": [],
   "source": [
    "search_url = \"https://collectionapi.metmuseum.org/public/collection/v1/search\"\n",
    "params = {\n",
    "    \"q\": \"Vincent van Gogh\",\n",
    "    \"artistOrCulture\": True,\n",
    "}\n",
    "response = requests.get(search_url, params=params)\n",
    "data = response.json()"
   ]
  },
  {
   "cell_type": "code",
   "execution_count": 10,
   "id": "c59348c7-2464-4cda-adfc-75de69458bb5",
   "metadata": {},
   "outputs": [
    {
     "name": "stdout",
     "output_type": "stream",
     "text": [
      "Found 302 artworks by Van Gogh.\n"
     ]
    }
   ],
   "source": [
    "object_ids = data.get(\"objectIDs\", [])\n",
    "print(f\"Found {len(object_ids)} artworks by Van Gogh.\")\n",
    "\n",
    "save_dir = \"van_gogh_images\"\n",
    "os.makedirs(save_dir, exist_ok=True)\n"
   ]
  },
  {
   "cell_type": "code",
   "execution_count": 17,
   "id": "4b3b5c5d-6999-483d-813a-3c0af43f0c22",
   "metadata": {},
   "outputs": [
    {
     "name": "stdout",
     "output_type": "stream",
     "text": [
      "Downloading La Berceuse (Woman Rocking a Cradle; Augustine-Alix Pellicot Roulin, 1851–1930)...\n",
      "Downloading Wheat Field with Cypresses...\n",
      "Downloading L'Arlésienne: Madame Joseph-Michel Ginoux (Marie Julien, 1848–1911)...\n",
      "Downloading Shoes...\n",
      "Downloading Irises...\n",
      "Downloading Self-Portrait with a Straw Hat (obverse: The Potato Peeler)...\n",
      "Downloading Peasant Woman Cooking by a Fireplace...\n",
      "Downloading First Steps, after Millet...\n",
      "Downloading Oleanders...\n",
      "Downloading Cypresses...\n",
      "Downloading Sunflowers...\n",
      "Downloading Bouquet of Flowers in a Vase...\n",
      "Downloading Madame Roulin and Her Baby...\n",
      "Downloading Road in Etten...\n",
      "Downloading Olive Trees...\n",
      "Downloading Corridor in the Asylum...\n",
      "Downloading Women Picking Olives...\n",
      "Downloading The Potato Peeler (reverse: Self-Portrait with a Straw Hat)...\n",
      "Downloading Roses...\n",
      "Downloading The Flowering Orchard...\n",
      "Downloading The Outer Harbor of Brest...\n",
      "Downloading Vincent Van Gogh on his Deathbed...\n",
      "Downloading Christ Asleep during the Tempest...\n",
      "Downloading Portrait of a Young Woman with a Fan...\n",
      "Downloading Burning Weeds...\n",
      "Done!\n"
     ]
    }
   ],
   "source": [
    "downloaded = 0\n",
    "for object_id in object_ids:\n",
    "    if downloaded >= 25:\n",
    "        break\n",
    "    \n",
    "    object_url = f\"https://collectionapi.metmuseum.org/public/collection/v1/objects/{object_id}\"\n",
    "    object_response = requests.get(object_url)\n",
    "    object_data = object_response.json()\n",
    "\n",
    "    image_url = object_data.get(\"primaryImage\")\n",
    "    title = object_data.get(\"title\", f\"van_gogh_{object_id}\")\n",
    "\n",
    "    if image_url:\n",
    "        print(f\"Downloading {title}...\")\n",
    "        img_response = requests.get(image_url)\n",
    "        img_path = os.path.join(save_dir, f\"{title.replace(' ', '_').replace(':', '')}.jpg\")\n",
    "        #print(img_path)\n",
    "\n",
    "        with open(img_path, \"wb\") as f:\n",
    "            f.write(img_response.content)\n",
    "\n",
    "        downloaded += 1\n",
    "\n",
    "print(\"Done!\")"
   ]
  },
  {
   "cell_type": "code",
   "execution_count": 2,
   "id": "519080d6-6175-44a9-9b2a-cab4c7097fff",
   "metadata": {},
   "outputs": [
    {
     "name": "stderr",
     "output_type": "stream",
     "text": [
      "C:\\Users\\Kyle\\AppData\\Local\\Packages\\PythonSoftwareFoundation.Python.3.11_qbz5n2kfra8p0\\LocalCache\\local-packages\\Python311\\site-packages\\torchvision\\models\\_utils.py:208: UserWarning: The parameter 'pretrained' is deprecated since 0.13 and may be removed in the future, please use 'weights' instead.\n",
      "  warnings.warn(\n",
      "C:\\Users\\Kyle\\AppData\\Local\\Packages\\PythonSoftwareFoundation.Python.3.11_qbz5n2kfra8p0\\LocalCache\\local-packages\\Python311\\site-packages\\torchvision\\models\\_utils.py:223: UserWarning: Arguments other than a weight enum or `None` for 'weights' are deprecated since 0.13 and may be removed in the future. The current behavior is equivalent to passing `weights=ResNet50_Weights.IMAGENET1K_V1`. You can also use `weights=ResNet50_Weights.DEFAULT` to get the most up-to-date weights.\n",
      "  warnings.warn(msg)\n"
     ]
    },
    {
     "name": "stdout",
     "output_type": "stream",
     "text": [
      "tensor([[[[0.1418]],\n",
      "\n",
      "         [[0.2107]],\n",
      "\n",
      "         [[0.2022]],\n",
      "\n",
      "         ...,\n",
      "\n",
      "         [[0.2474]],\n",
      "\n",
      "         [[0.4633]],\n",
      "\n",
      "         [[0.5845]]]])\n"
     ]
    }
   ],
   "source": [
    "resnet = models.resnet50(pretrained=True)\n",
    "model = resnet.eval()\n",
    "feature_extractor = torch.nn.Sequential(*list(resnet.children())[:-1])\n",
    "transform = transforms.ToTensor()\n",
    "\n",
    "img = Image.open(\"van_gogh_images/irises.jpg\")\n",
    "img_tensor = transform(img).unsqueeze(0)\n",
    "\n",
    "\n",
    "with torch.no_grad():\n",
    "    features = feature_extractor(img_tensor)\n",
    "\n",
    "print(features)\n"
   ]
  },
  {
   "cell_type": "code",
   "execution_count": 32,
   "id": "16662729-49ac-47a0-80bd-7cd70df66603",
   "metadata": {},
   "outputs": [],
   "source": [
    "model, preprocess = clip.load(\"ViT-B/32\", device=device)\n",
    "feature_vectors = []\n",
    "all_files = os.listdir(\"van_gogh_images\")\n",
    "for path in all_files[1:]:\n",
    "    img = Image.open(f\"van_gogh_images/{path}\")        \n",
    "    image = preprocess(img).unsqueeze(0).to(device)\n",
    "    with torch.no_grad():\n",
    "        image_features = model.encode_image(image)\n",
    "    feature_vectors.append(image_features[0].cpu())\n",
    "\n"
   ]
  },
  {
   "cell_type": "code",
   "execution_count": 39,
   "id": "ff352ca2-7bc3-4311-ba9c-b7936d844b65",
   "metadata": {},
   "outputs": [
    {
     "name": "stdout",
     "output_type": "stream",
     "text": [
      "tensor([ 0.7695, -0.2408,  0.0120, -0.0094, -0.1647,  0.0388,  0.0175,  0.1913,\n",
      "        -0.1545,  0.5303, -0.4307,  0.1516, -0.0612, -0.1912,  0.3921,  0.0323,\n",
      "        -0.0354,  0.0248,  0.0152, -0.4158], device='cuda:0',\n",
      "       dtype=torch.float16)\n",
      "tensor([ 0.7793, -0.2512,  0.0078, -0.0121, -0.1587,  0.0314,  0.0099,  0.2220,\n",
      "        -0.1559,  0.5234, -0.4263,  0.1676, -0.0603, -0.1940,  0.3833,  0.0256,\n",
      "        -0.0468,  0.0385,  0.0122, -0.4028], device='cuda:0',\n",
      "       dtype=torch.float16)\n"
     ]
    }
   ],
   "source": [
    "img1 = Image.open(\"van_gogh_images/Cypresses.jpg\")\n",
    "img2 = Image.open(\"van_gogh_images/Cypresses-protected-intensity-DEFAULT-V2.jpg\")\n",
    "image_1 = preprocess(img1).unsqueeze(0).to(device)\n",
    "image_2 = preprocess(img2).unsqueeze(0).to(device)\n",
    "with torch.no_grad():\n",
    "    features1 = model.encode_image(image_1)\n",
    "    features2 = model.encode_image(image_2)\n",
    "print(features1[0][0:20])\n",
    "print(features2[0][0:20])"
   ]
  },
  {
   "cell_type": "code",
   "execution_count": 35,
   "id": "e71e329f-2569-4e02-ace7-9abee0b8dda3",
   "metadata": {},
   "outputs": [
    {
     "data": {
      "image/png": "[encoded data removed]",
      "text/plain": [
       "<Figure size 640x480 with 1 Axes>"
      ]
     },
     "metadata": {},
     "output_type": "display_data"
    }
   ],
   "source": [
    "pca = PCA(n_components=2)\n",
    "data_pca = pca.fit_transform(feature_vectors)\n",
    "plt.figure()\n",
    "plt.scatter(data_pca[:, 0], data_pca[:, 1])\n",
    "plt.show()"
   ]
  },
  {
   "cell_type": "code",
   "execution_count": null,
   "id": "3af3a7d1-ca3c-4e4e-85e2-4a1ea5181876",
   "metadata": {},
   "outputs": [],
   "source": []
  }
 ],
 "metadata": {
  "kernelspec": {
   "display_name": "Python 3 (ipykernel)",
   "language": "python",
   "name": "python3"
  },
  "language_info": {
   "codemirror_mode": {
    "name": "ipython",
    "version": 3
   },
   "file_extension": ".py",
   "mimetype": "text/x-python",
   "name": "python",
   "nbconvert_exporter": "python",
   "pygments_lexer": "ipython3",
   "version": "3.11.9"
  }
 },
 "nbformat": 4,
 "nbformat_minor": 5
}
